{
 "cells": [
  {
   "cell_type": "code",
   "execution_count": 8,
   "metadata": {},
   "outputs": [],
   "source": [
    "from types import SimpleNamespace\n",
    "\n",
    "import torch\n",
    "import torch.nn as nn\n",
    "\n",
    "from torch_points_kernels import knn"
   ]
  },
  {
   "cell_type": "code",
   "execution_count": 3,
   "metadata": {},
   "outputs": [],
   "source": [
    "device = torch.device('cuda:4')\n"
   ]
  },
  {
   "cell_type": "code",
   "execution_count": 4,
   "metadata": {},
   "outputs": [],
   "source": [
    "class DGCNN(nn.Module):\n",
    "    def __init__(self, args):\n",
    "        super(DGCNN, self).__init__()\n",
    "        self.args = args\n",
    "        self.k = args.k\n",
    "\n",
    "        self.bn1 = nn.BatchNorm2d(64)\n",
    "        self.bn2 = nn.BatchNorm2d(64)\n",
    "        self.bn3 = nn.BatchNorm2d(128)\n",
    "        self.bn4 = nn.BatchNorm2d(256)\n",
    "        self.bn5 = nn.BatchNorm1d(args.emb_dims)\n",
    "\n",
    "        self.conv1 = nn.Sequential(nn.Conv2d((3 + args.c_in) * 2, 64, kernel_size=1, bias=False),\n",
    "                                   self.bn1,\n",
    "                                   nn.LeakyReLU(negative_slope=0.2))\n",
    "        self.conv2 = nn.Sequential(nn.Conv2d(64*2, 64, kernel_size=1, bias=False),\n",
    "                                   self.bn2,\n",
    "                                   nn.LeakyReLU(negative_slope=0.2))\n",
    "        self.conv3 = nn.Sequential(nn.Conv2d(64*2, 128, kernel_size=1, bias=False),\n",
    "                                   self.bn3,\n",
    "                                   nn.LeakyReLU(negative_slope=0.2))\n",
    "        self.conv4 = nn.Sequential(nn.Conv2d(128*2, 256, kernel_size=1, bias=False),\n",
    "                                   self.bn4,\n",
    "                                   nn.LeakyReLU(negative_slope=0.2))\n",
    "        self.conv5 = nn.Sequential(nn.Conv1d(512, args.emb_dims, kernel_size=1, bias=False),\n",
    "                                   self.bn5,\n",
    "                                   nn.LeakyReLU(negative_slope=0.2))\n",
    "\n",
    "    def knn(self, x, k):\n",
    "        inner = -2*torch.matmul(x.transpose(2, 1), x)\n",
    "        xx = torch.sum(x**2, dim=1, keepdim=True)\n",
    "        pairwise_distance = -xx - inner - xx.transpose(2, 1)\n",
    "\n",
    "        # (batch_size, num_points, k)\n",
    "        idx = pairwise_distance.topk(k=k, dim=-1)[1]\n",
    "        return idx\n",
    "\n",
    "    def get_graph_feature(self, x, k=20, idx=None, dim9=False):\n",
    "        batch_size = x.size(0)\n",
    "        num_points = x.size(2)\n",
    "        x = x.view(batch_size, -1, num_points)\n",
    "        if idx is None:\n",
    "            if dim9 == False:\n",
    "                idx = self.knn(x[:, :3], k=k)   # (batch_size, num_points, k)\n",
    "            else:\n",
    "                idx = self.knn(x[:, 6:], k=k)\n",
    "        device_idx = x.get_device()\n",
    "        device = torch.device(\n",
    "            f'cuda:{device_idx}' if device_idx != -1 else 'cpu')\n",
    "\n",
    "        idx_base = torch.arange(\n",
    "            0, batch_size, device=device).view(-1, 1, 1)*num_points\n",
    "\n",
    "        idx = idx + idx_base\n",
    "\n",
    "        idx = idx.view(-1)\n",
    "\n",
    "        _, num_dims, _ = x.size()\n",
    "\n",
    "        # (batch_size, num_points, num_dims)  -> (batch_size*num_points, num_dims) #   batch_size * num_points * k + range(0, batch_size*num_points)\n",
    "        x = x.transpose(2, 1).contiguous()\n",
    "        feature = x.view(batch_size*num_points, -1)[idx, :]\n",
    "        feature = feature.view(batch_size, num_points, k, num_dims)\n",
    "        x = x.view(batch_size, num_points, 1, num_dims).repeat(1, 1, k, 1)\n",
    "\n",
    "        feature = torch.cat(\n",
    "            (feature-x, x), dim=3).permute(0, 3, 1, 2).contiguous()\n",
    "\n",
    "        return feature      # (batch_size, 2*num_dims, num_points, k)\n",
    "\n",
    "    def forward(self, x):\n",
    "        batch_size = x.size(0)\n",
    "        # (batch_size, 3, num_points) -> (batch_size, 3*2, num_points, k)\n",
    "        x = self.get_graph_feature(x, k=self.k)\n",
    "        # (batch_size, 3*2, num_points, k) -> (batch_size, 64, num_points, k)\n",
    "        x = self.conv1(x)\n",
    "        # (batch_size, 64, num_points, k) -> (batch_size, 64, num_points)\n",
    "        x1 = x.max(dim=-1, keepdim=False)[0]\n",
    "\n",
    "        # (batch_size, 64, num_points) -> (batch_size, 64*2, num_points, k)\n",
    "        x = self.get_graph_feature(x1, k=self.k)\n",
    "        # (batch_size, 64*2, num_points, k) -> (batch_size, 64, num_points, k)\n",
    "        x = self.conv2(x)\n",
    "        # (batch_size, 64, num_points, k) -> (batch_size, 64, num_points)\n",
    "        x2 = x.max(dim=-1, keepdim=False)[0]\n",
    "\n",
    "        # (batch_size, 64, num_points) -> (batch_size, 64*2, num_points, k)\n",
    "        x = self.get_graph_feature(x2, k=self.k)\n",
    "        # (batch_size, 64*2, num_points, k) -> (batch_size, 128, num_points, k)\n",
    "        x = self.conv3(x)\n",
    "        # (batch_size, 128, num_points, k) -> (batch_size, 128, num_points)\n",
    "        x3 = x.max(dim=-1, keepdim=False)[0]\n",
    "\n",
    "        # (batch_size, 128, num_points) -> (batch_size, 128*2, num_points, k)\n",
    "        x = self.get_graph_feature(x3, k=self.k)\n",
    "        # (batch_size, 128*2, num_points, k) -> (batch_size, 256, num_points, k)\n",
    "        x = self.conv4(x)\n",
    "        # (batch_size, 256, num_points, k) -> (batch_size, 256, num_points)\n",
    "        x4 = x.max(dim=-1, keepdim=False)[0]\n",
    "\n",
    "        # (batch_size, 64+64+128+256, num_points)\n",
    "        x = torch.cat((x1, x2, x3, x4), dim=1)\n",
    "        # (batch_size, 64+64+128+256, num_points) -> (batch_size, emb_dims, num_points)\n",
    "        x = self.conv5(x)\n",
    "        return x\n"
   ]
  },
  {
   "cell_type": "code",
   "execution_count": 4,
   "metadata": {},
   "outputs": [],
   "source": [
    "d = {\n",
    "    'k': 40,\n",
    "    'emb_dims': 1024,\n",
    "    'dropout': 0.5,\n",
    "    'c_in': 4\n",
    "}\n",
    "args = SimpleNamespace(**d)\n",
    "model = DGCNN(args).to(device).eval()"
   ]
  },
  {
   "cell_type": "code",
   "execution_count": 5,
   "metadata": {},
   "outputs": [],
   "source": [
    "B = 8\n",
    "N = 2048\n",
    "C = 4\n",
    "x = torch.empty((B, 3 + C, N), device=device).normal_(mean=0, std=0.1)\n",
    "# with torch.no_grad():\n",
    "#     y = model(x)\n",
    "# y.shape"
   ]
  },
  {
   "cell_type": "code",
   "execution_count": 9,
   "metadata": {},
   "outputs": [
    {
     "ename": "ValueError",
     "evalue": "CUDA version not implemented, use pytorch geometric",
     "output_type": "error",
     "traceback": [
      "\u001b[0;31m---------------------------------------------------------------------------\u001b[0m",
      "\u001b[0;31mValueError\u001b[0m                                Traceback (most recent call last)",
      "\u001b[0;32m/tmp/ipykernel_2944072/2223199388.py\u001b[0m in \u001b[0;36m<module>\u001b[0;34m\u001b[0m\n\u001b[0;32m----> 1\u001b[0;31m \u001b[0mx_knn\u001b[0m \u001b[0;34m=\u001b[0m \u001b[0mknn\u001b[0m\u001b[0;34m(\u001b[0m\u001b[0mx\u001b[0m\u001b[0;34m,\u001b[0m \u001b[0mx\u001b[0m\u001b[0;34m,\u001b[0m \u001b[0;36m40\u001b[0m\u001b[0;34m)\u001b[0m\u001b[0;34m\u001b[0m\u001b[0;34m\u001b[0m\u001b[0m\n\u001b[0m",
      "\u001b[0;32m~/miniconda3/envs/st2/lib/python3.7/site-packages/torch_points_kernels/knn.py\u001b[0m in \u001b[0;36mknn\u001b[0;34m(pos_support, pos, k)\u001b[0m\n\u001b[1;32m     15\u001b[0m     \u001b[0;32massert\u001b[0m \u001b[0mpos_support\u001b[0m\u001b[0;34m.\u001b[0m\u001b[0mdim\u001b[0m\u001b[0;34m(\u001b[0m\u001b[0;34m)\u001b[0m \u001b[0;34m==\u001b[0m \u001b[0;36m3\u001b[0m \u001b[0;32mand\u001b[0m \u001b[0mpos\u001b[0m\u001b[0;34m.\u001b[0m\u001b[0mdim\u001b[0m\u001b[0;34m(\u001b[0m\u001b[0;34m)\u001b[0m \u001b[0;34m==\u001b[0m \u001b[0;36m3\u001b[0m\u001b[0;34m\u001b[0m\u001b[0;34m\u001b[0m\u001b[0m\n\u001b[1;32m     16\u001b[0m     \u001b[0;32mif\u001b[0m \u001b[0mpos_support\u001b[0m\u001b[0;34m.\u001b[0m\u001b[0mis_cuda\u001b[0m\u001b[0;34m:\u001b[0m\u001b[0;34m\u001b[0m\u001b[0;34m\u001b[0m\u001b[0m\n\u001b[0;32m---> 17\u001b[0;31m         \u001b[0;32mraise\u001b[0m \u001b[0mValueError\u001b[0m\u001b[0;34m(\u001b[0m\u001b[0;34m\"CUDA version not implemented, use pytorch geometric\"\u001b[0m\u001b[0;34m)\u001b[0m\u001b[0;34m\u001b[0m\u001b[0;34m\u001b[0m\u001b[0m\n\u001b[0m\u001b[1;32m     18\u001b[0m     \u001b[0;32mreturn\u001b[0m \u001b[0mtpcpu\u001b[0m\u001b[0;34m.\u001b[0m\u001b[0mdense_knn\u001b[0m\u001b[0;34m(\u001b[0m\u001b[0mpos_support\u001b[0m\u001b[0;34m,\u001b[0m \u001b[0mpos\u001b[0m\u001b[0;34m,\u001b[0m \u001b[0mk\u001b[0m\u001b[0;34m)\u001b[0m\u001b[0;34m\u001b[0m\u001b[0;34m\u001b[0m\u001b[0m\n",
      "\u001b[0;31mValueError\u001b[0m: CUDA version not implemented, use pytorch geometric"
     ]
    }
   ],
   "source": [
    "x_knn = knn(x, x, 40)"
   ]
  },
  {
   "cell_type": "code",
   "execution_count": null,
   "metadata": {},
   "outputs": [],
   "source": []
  }
 ],
 "metadata": {
  "kernelspec": {
   "display_name": "Python 3.7.13 ('st2')",
   "language": "python",
   "name": "python3"
  },
  "language_info": {
   "codemirror_mode": {
    "name": "ipython",
    "version": 3
   },
   "file_extension": ".py",
   "mimetype": "text/x-python",
   "name": "python",
   "nbconvert_exporter": "python",
   "pygments_lexer": "ipython3",
   "version": "3.7.13"
  },
  "orig_nbformat": 4,
  "vscode": {
   "interpreter": {
    "hash": "27be11f43d405de5185eeea6ee5ea6ff98f521729d7f28d5a494abcfb2f6a221"
   }
  }
 },
 "nbformat": 4,
 "nbformat_minor": 2
}
